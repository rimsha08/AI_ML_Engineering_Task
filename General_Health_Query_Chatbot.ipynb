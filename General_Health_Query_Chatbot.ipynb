{
 "cells": [
  {
   "cell_type": "code",
   "execution_count": 1,
   "id": "f2e713d4",
   "metadata": {},
   "outputs": [
    {
     "data": {
      "text/plain": [
       "True"
      ]
     },
     "execution_count": 1,
     "metadata": {},
     "output_type": "execute_result"
    }
   ],
   "source": [
    "import openai\n",
    "from dotenv import load_dotenv\n",
    "load_dotenv()"
   ]
  },
  {
   "cell_type": "code",
   "execution_count": null,
   "id": "799e4379",
   "metadata": {},
   "outputs": [],
   "source": [
    "def ask_health_bot(query):\n",
    "    prompt = (\n",
    "        \"You are a helpful and friendly medical assistant. \"\n",
    "        \"You can answer general health questions clearly and safely. \"\n",
    "        \"If a question is risky or needs a doctor's help, say: \"\n",
    "        \"'I'm not a doctor, so it's best to consult a healthcare professional.'\\n\\n\"\n",
    "        f\"User: {query}\\n\"\n",
    "        \"Assistant:\"\n",
    "    )\n",
    "\n",
    "    response = openai.ChatCompletion.create(\n",
    "        model=\"gpt-3.5-turbo\",  \n",
    "        messages=[{\"role\": \"user\", \"content\": prompt}],\n",
    "        temperature=0.7,\n",
    "        max_tokens=200\n",
    "    )\n",
    "\n",
    "    return response['choices'][0]['message']['content']\n"
   ]
  },
  {
   "cell_type": "code",
   "execution_count": 5,
   "id": "2602be1a",
   "metadata": {},
   "outputs": [
    {
     "name": "stdout",
     "output_type": "stream",
     "text": [
      "I'm not qualified to answer this. Please consult a medical professional.\n"
     ]
    }
   ],
   "source": [
    "def is_safe(query):\n",
    "    risky_words = [\"cancer\", \"heart attack\", \"surgery\", \"dosage\", \"prescription\"]\n",
    "    return not any(word.lower() in query.lower() for word in risky_words)\n",
    "\n",
    "query = \"How to treat cancer?\"\n",
    "if is_safe(query):\n",
    "    print(ask_health_bot(query))\n",
    "else:\n",
    "    print(\"I'm not qualified to answer this. Please consult a medical professional.\")"
   ]
  },
  {
   "cell_type": "code",
   "execution_count": 6,
   "id": "8ff8b176",
   "metadata": {},
   "outputs": [
    {
     "name": "stdout",
     "output_type": "stream",
     "text": [
      "Yes, paracetamol is safe for children when used in the recommended dosage. However, it's always best to consult with a healthcare professional before giving any medication to children.\n"
     ]
    }
   ],
   "source": [
    "query = \"Is paracetamol safe for children?\"\n",
    "response = ask_health_bot(query)\n",
    "print(response)"
   ]
  },
  {
   "cell_type": "code",
   "execution_count": 7,
   "id": "76f7d8db",
   "metadata": {},
   "outputs": [
    {
     "name": "stdout",
     "output_type": "stream",
     "text": [
      "Paracetamol is commonly used to relieve mild to moderate pain and reduce fever. It is also used in combination with other medications to treat colds, flu, and other conditions.\n"
     ]
    }
   ],
   "source": [
    "query = \"What is paracetamol used for?\"\n",
    "response = ask_health_bot(query)\n",
    "print(response)"
   ]
  },
  {
   "cell_type": "code",
   "execution_count": 8,
   "id": "1cf8114c",
   "metadata": {},
   "outputs": [
    {
     "name": "stdout",
     "output_type": "stream",
     "text": [
      "Common symptoms of the flu include fever, cough, sore throat, runny or stuffy nose, body aches, headaches, chills, and fatigue. If you are experiencing these symptoms, it's best to consult a healthcare professional for proper diagnosis and treatment.\n"
     ]
    }
   ],
   "source": [
    "query = \"What are common symptoms of the flu?\"\n",
    "response = ask_health_bot(query)\n",
    "print(response)"
   ]
  },
  {
   "cell_type": "code",
   "execution_count": 9,
   "id": "23054b20",
   "metadata": {},
   "outputs": [
    {
     "name": "stdout",
     "output_type": "stream",
     "text": [
      "Some important vaccines for children include the measles, mumps, and rubella (MMR) vaccine, the polio vaccine, the chickenpox vaccine, the hepatitis B vaccine, and the flu vaccine. It's important to follow the recommended vaccination schedule provided by your child's healthcare provider.\n"
     ]
    }
   ],
   "source": [
    "query = \"What vaccines are important for children?\"\n",
    "response = ask_health_bot(query)\n",
    "print(response)"
   ]
  }
 ],
 "metadata": {
  "kernelspec": {
   "display_name": "Python 3",
   "language": "python",
   "name": "python3"
  },
  "language_info": {
   "codemirror_mode": {
    "name": "ipython",
    "version": 3
   },
   "file_extension": ".py",
   "mimetype": "text/x-python",
   "name": "python",
   "nbconvert_exporter": "python",
   "pygments_lexer": "ipython3",
   "version": "3.11.9"
  }
 },
 "nbformat": 4,
 "nbformat_minor": 5
}
